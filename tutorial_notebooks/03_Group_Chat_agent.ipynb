{
 "cells": [
  {
   "cell_type": "code",
   "execution_count": 5,
   "metadata": {},
   "outputs": [],
   "source": [
    "%%capture\n",
    "pip install autogen flaml[automl]"
   ]
  },
  {
   "cell_type": "code",
   "execution_count": 6,
   "metadata": {},
   "outputs": [],
   "source": [
    "import autogen\n",
    "import os"
   ]
  },
  {
   "cell_type": "code",
   "execution_count": 16,
   "metadata": {},
   "outputs": [],
   "source": [
    "config_list = [\n",
    "        {\n",
    "        'model': 'gpt-4o',\n",
    "        'api_key': \"\",# ใส่ API key ที่นี่\n",
    "        }\n",
    "    ]\n",
    "llm_config={\n",
    "            \"config_list\": config_list,\n",
    "            \"temperature\": 0.7,\n",
    "            \"cache_seed\": None,\n",
    "        }"
   ]
  },
  {
   "cell_type": "code",
   "execution_count": 17,
   "metadata": {},
   "outputs": [
    {
     "name": "stdout",
     "output_type": "stream",
     "text": [
      "[autogen.oai.client: 09-20 22:04:03] {184} WARNING - The API key specified is not a valid OpenAI format; it won't work with the OpenAI-hosted model.\n",
      "[autogen.oai.client: 09-20 22:04:03] {184} WARNING - The API key specified is not a valid OpenAI format; it won't work with the OpenAI-hosted model.\n"
     ]
    },
    {
     "name": "stdout",
     "output_type": "stream",
     "text": [
      "[autogen.oai.client: 09-20 22:04:03] {184} WARNING - The API key specified is not a valid OpenAI format; it won't work with the OpenAI-hosted model.\n"
     ]
    }
   ],
   "source": [
    "user_proxy = autogen.UserProxyAgent(\n",
    "    name=\"User_proxy\",\n",
    "    system_message=\"A human admin.\",\n",
    "    code_execution_config={\n",
    "        \"last_n_messages\": 2,\n",
    "        \"work_dir\": \"groupchat\",\n",
    "        \"use_docker\": False,\n",
    "    },\n",
    "    human_input_mode=\"TERMINATE\"\n",
    ")\n",
    "\n",
    "coder = autogen.AssistantAgent(\n",
    "    name=\"Coder\",\n",
    "    llm_config=llm_config,\n",
    ")\n",
    "pm = autogen.AssistantAgent(\n",
    "    name=\"Product_manager\",\n",
    "    system_message=\"Creative in software product ideas.\",\n",
    "    llm_config=llm_config,\n",
    ")\n",
    "\n",
    "groupchat = autogen.GroupChat(agents=[user_proxy, coder, pm], messages=[], max_round=12)\n",
    "manager = autogen.GroupChatManager(groupchat=groupchat, llm_config=llm_config)"
   ]
  },
  {
   "cell_type": "code",
   "execution_count": 18,
   "metadata": {},
   "outputs": [
    {
     "name": "stdout",
     "output_type": "stream",
     "text": [
      "\u001b[33mUser_proxy\u001b[0m (to chat_manager):\n",
      "\n",
      "Find a latest paper about gpt-4 on arxiv and find its potential applications in software.\n",
      "\n",
      "--------------------------------------------------------------------------------\n",
      "[autogen.oai.client: 09-20 22:04:07] {184} WARNING - The API key specified is not a valid OpenAI format; it won't work with the OpenAI-hosted model.\n",
      "\u001b[32m\n",
      "Next speaker: Coder\n",
      "\u001b[0m\n",
      "\u001b[33mCoder\u001b[0m (to chat_manager):\n",
      "\n",
      "Let's start by finding the latest paper about GPT-4 on arXiv. We'll use Python to search the arXiv API for the relevant paper and then analyze its content to identify potential applications in software.\n",
      "\n",
      "Here's the plan:\n",
      "1. Use the arXiv API to search for the latest paper about GPT-4.\n",
      "2. Extract the paper's title, abstract, and publication date.\n",
      "3. Analyze the abstract to identify potential applications in software.\n",
      "\n",
      "I will provide the Python code to achieve this.\n",
      "\n",
      "```python\n",
      "# filename: search_arxiv_gpt4.py\n",
      "import requests\n",
      "import xml.etree.ElementTree as ET\n",
      "\n",
      "# Search for the latest paper about GPT-4 on arXiv\n",
      "search_query = 'all:gpt-4'\n",
      "url = f'http://export.arxiv.org/api/query?search_query={search_query}&start=0&max_results=1&sortBy=submittedDate&sortOrder=descending'\n",
      "\n",
      "response = requests.get(url)\n",
      "if response.status_code == 200:\n",
      "    root = ET.fromstring(response.content)\n",
      "\n",
      "    # Extract title, abstract, and publication date\n",
      "    paper = root.find('{http://www.w3.org/2005/Atom}entry')\n",
      "    if paper is not None:\n",
      "        title = paper.find('{http://www.w3.org/2005/Atom}title').text\n",
      "        abstract = paper.find('{http://www.w3.org/2005/Atom}summary').text\n",
      "        published = paper.find('{http://www.w3.org/2005/Atom}published').text\n",
      "\n",
      "        print(f\"Title: {title}\\n\")\n",
      "        print(f\"Abstract:\\n{abstract}\\n\")\n",
      "        print(f\"Published Date: {published}\\n\")\n",
      "    else:\n",
      "        print(\"No paper found.\")\n",
      "else:\n",
      "    print(f\"Error fetching data from arXiv API: {response.status_code}\")\n",
      "```\n",
      "\n",
      "Please save the code in a file named `search_arxiv_gpt4.py` and execute it. This will fetch the latest paper about GPT-4 from arXiv and print its title, abstract, and publication date. Once you have the output, we can analyze the abstract to identify potential applications in software.\n",
      "\n",
      "--------------------------------------------------------------------------------\n",
      "[autogen.oai.client: 09-20 22:04:30] {184} WARNING - The API key specified is not a valid OpenAI format; it won't work with the OpenAI-hosted model.\n",
      "\u001b[32m\n",
      "Next speaker: User_proxy\n",
      "\u001b[0m\n",
      "\u001b[31m\n",
      ">>>>>>>> USING AUTO REPLY...\u001b[0m\n",
      "\u001b[31m\n",
      ">>>>>>>> EXECUTING CODE BLOCK 0 (inferred language is python)...\u001b[0m\n",
      "\u001b[33mUser_proxy\u001b[0m (to chat_manager):\n",
      "\n",
      "exitcode: 0 (execution succeeded)\n",
      "Code output: \n",
      "Title: Human-like Affective Cognition in Foundation Models\n",
      "\n",
      "Abstract:\n",
      "  Understanding emotions is fundamental to human interaction and experience.\n",
      "Humans easily infer emotions from situations or facial expressions, situations\n",
      "from emotions, and do a variety of other affective cognition. How adept is\n",
      "modern AI at these inferences? We introduce an evaluation framework for testing\n",
      "affective cognition in foundation models. Starting from psychological theory,\n",
      "we generate 1,280 diverse scenarios exploring relationships between appraisals,\n",
      "emotions, expressions, and outcomes. We evaluate the abilities of foundation\n",
      "models (GPT-4, Claude-3, Gemini-1.5-Pro) and humans (N = 567) across carefully\n",
      "selected conditions. Our results show foundation models tend to agree with\n",
      "human intuitions, matching or exceeding interparticipant agreement. In some\n",
      "conditions, models are ``superhuman'' -- they better predict modal human\n",
      "judgements than the average human. All models benefit from chain-of-thought\n",
      "reasoning. This suggests foundation models have acquired a human-like\n",
      "understanding of emotions and their influence on beliefs and behavior.\n",
      "\n",
      "\n",
      "Published Date: 2024-09-18T06:42:13Z\n",
      "\n",
      "\n",
      "\n",
      "--------------------------------------------------------------------------------\n",
      "[autogen.oai.client: 09-20 22:04:33] {184} WARNING - The API key specified is not a valid OpenAI format; it won't work with the OpenAI-hosted model.\n",
      "\u001b[32m\n",
      "Next speaker: Product_manager\n",
      "\u001b[0m\n",
      "\u001b[33mProduct_manager\u001b[0m (to chat_manager):\n",
      "\n",
      "Based on the abstract of the paper titled \"Human-like Affective Cognition in Foundation Models,\" we can identify several potential applications of GPT-4 in software, particularly focusing on affective cognition and emotional understanding. Here are some potential applications:\n",
      "\n",
      "1. **Mental Health Support and Therapy**:\n",
      "   - **Emotion Detection and Analysis**: GPT-4 can be integrated into platforms for monitoring and analyzing users' emotional states based on their interactions, providing insights into their mental health.\n",
      "   - **Virtual Therapy Assistants**: Develop virtual therapists that can understand and respond to users' emotions, offering support and therapeutic conversations.\n",
      "\n",
      "2. **Customer Service and Support**:\n",
      "   - **Emotionally Intelligent Chatbots**: Create chatbots that can detect and respond to customers' emotions, improving customer satisfaction by providing empathetic and appropriate responses.\n",
      "   - **Sentiment Analysis in Customer Feedback**: Analyze customer feedback to understand emotional tones and improve products or services accordingly.\n",
      "\n",
      "3. **Educational Tools**:\n",
      "   - **Emotionally Aware Tutoring Systems**: Develop tutoring systems that adapt their teaching strategies based on the emotional state of the learner, enhancing the learning experience.\n",
      "   - **Interactive Learning Environments**: Create interactive educational platforms that respond to students' emotions, offering encouragement and support when needed.\n",
      "\n",
      "4. **Human-Computer Interaction (HCI)**:\n",
      "   - **Emotionally Adaptive Interfaces**: Design user interfaces that adapt to the user's emotional state, providing a more personalized and engaging experience.\n",
      "   - **Affective Computing Applications**: Develop applications that use affective computing to enhance user interaction by understanding and responding to emotional cues.\n",
      "\n",
      "5. **Entertainment and Media**:\n",
      "   - **Emotion-Driven Content Recommendation**: Build recommendation systems that suggest content (movies, music, books) based on the user's current emotional state.\n",
      "   - **Interactive Storytelling and Gaming**: Create interactive stories and games that adapt to the player's emotions, offering a more immersive experience.\n",
      "\n",
      "6. **Social Robotics**:\n",
      "   - **Emotionally Intelligent Robots**: Develop robots that can interact with humans in a more natural and empathetic manner by understanding and responding to emotional cues.\n",
      "   - **Companion Robots for Elderly**: Create companion robots for the elderly that can understand and respond to their emotional needs, providing companionship and support.\n",
      "\n",
      "7. **Human Resources and Workplace Well-being**:\n",
      "   - **Employee Well-being Monitoring**: Implement systems to monitor employees' emotional well-being, providing support and interventions when necessary.\n",
      "   - **Emotionally Intelligent Recruitment Tools**: Develop tools that assess candidates' emotional intelligence during the recruitment process.\n",
      "\n",
      "8. **Healthcare**:\n",
      "   - **Patient Emotion Recognition**: Integrate emotion recognition into healthcare applications to better understand and respond to patients' needs.\n",
      "   - **Telemedicine Platforms**: Enhance telemedicine platforms with emotionally aware virtual assistants that can provide empathetic support to patients.\n",
      "\n",
      "By leveraging GPT-4's capabilities in affective cognition, these applications can significantly enhance user experience, provide better support, and create more engaging and empathetic interactions across various domains.\n",
      "\n",
      "--------------------------------------------------------------------------------\n",
      "[autogen.oai.client: 09-20 22:04:51] {184} WARNING - The API key specified is not a valid OpenAI format; it won't work with the OpenAI-hosted model.\n",
      "\u001b[32m\n",
      "Next speaker: Coder\n",
      "\u001b[0m\n",
      "\u001b[33mCoder\u001b[0m (to chat_manager):\n",
      "\n",
      "TERMINATE\n",
      "\n",
      "--------------------------------------------------------------------------------\n"
     ]
    },
    {
     "data": {
      "text/plain": [
       "ChatResult(chat_id=None, chat_history=[{'content': 'Find a latest paper about gpt-4 on arxiv and find its potential applications in software.', 'role': 'assistant', 'name': 'User_proxy'}, {'content': 'Let\\'s start by finding the latest paper about GPT-4 on arXiv. We\\'ll use Python to search the arXiv API for the relevant paper and then analyze its content to identify potential applications in software.\\n\\nHere\\'s the plan:\\n1. Use the arXiv API to search for the latest paper about GPT-4.\\n2. Extract the paper\\'s title, abstract, and publication date.\\n3. Analyze the abstract to identify potential applications in software.\\n\\nI will provide the Python code to achieve this.\\n\\n```python\\n# filename: search_arxiv_gpt4.py\\nimport requests\\nimport xml.etree.ElementTree as ET\\n\\n# Search for the latest paper about GPT-4 on arXiv\\nsearch_query = \\'all:gpt-4\\'\\nurl = f\\'http://export.arxiv.org/api/query?search_query={search_query}&start=0&max_results=1&sortBy=submittedDate&sortOrder=descending\\'\\n\\nresponse = requests.get(url)\\nif response.status_code == 200:\\n    root = ET.fromstring(response.content)\\n\\n    # Extract title, abstract, and publication date\\n    paper = root.find(\\'{http://www.w3.org/2005/Atom}entry\\')\\n    if paper is not None:\\n        title = paper.find(\\'{http://www.w3.org/2005/Atom}title\\').text\\n        abstract = paper.find(\\'{http://www.w3.org/2005/Atom}summary\\').text\\n        published = paper.find(\\'{http://www.w3.org/2005/Atom}published\\').text\\n\\n        print(f\"Title: {title}\\\\n\")\\n        print(f\"Abstract:\\\\n{abstract}\\\\n\")\\n        print(f\"Published Date: {published}\\\\n\")\\n    else:\\n        print(\"No paper found.\")\\nelse:\\n    print(f\"Error fetching data from arXiv API: {response.status_code}\")\\n```\\n\\nPlease save the code in a file named `search_arxiv_gpt4.py` and execute it. This will fetch the latest paper about GPT-4 from arXiv and print its title, abstract, and publication date. Once you have the output, we can analyze the abstract to identify potential applications in software.', 'name': 'Coder', 'role': 'user'}, {'content': \"exitcode: 0 (execution succeeded)\\nCode output: \\nTitle: Human-like Affective Cognition in Foundation Models\\n\\nAbstract:\\n  Understanding emotions is fundamental to human interaction and experience.\\nHumans easily infer emotions from situations or facial expressions, situations\\nfrom emotions, and do a variety of other affective cognition. How adept is\\nmodern AI at these inferences? We introduce an evaluation framework for testing\\naffective cognition in foundation models. Starting from psychological theory,\\nwe generate 1,280 diverse scenarios exploring relationships between appraisals,\\nemotions, expressions, and outcomes. We evaluate the abilities of foundation\\nmodels (GPT-4, Claude-3, Gemini-1.5-Pro) and humans (N = 567) across carefully\\nselected conditions. Our results show foundation models tend to agree with\\nhuman intuitions, matching or exceeding interparticipant agreement. In some\\nconditions, models are ``superhuman'' -- they better predict modal human\\njudgements than the average human. All models benefit from chain-of-thought\\nreasoning. This suggests foundation models have acquired a human-like\\nunderstanding of emotions and their influence on beliefs and behavior.\\n\\n\\nPublished Date: 2024-09-18T06:42:13Z\\n\\n\", 'role': 'assistant', 'name': 'User_proxy'}, {'content': 'Based on the abstract of the paper titled \"Human-like Affective Cognition in Foundation Models,\" we can identify several potential applications of GPT-4 in software, particularly focusing on affective cognition and emotional understanding. Here are some potential applications:\\n\\n1. **Mental Health Support and Therapy**:\\n   - **Emotion Detection and Analysis**: GPT-4 can be integrated into platforms for monitoring and analyzing users\\' emotional states based on their interactions, providing insights into their mental health.\\n   - **Virtual Therapy Assistants**: Develop virtual therapists that can understand and respond to users\\' emotions, offering support and therapeutic conversations.\\n\\n2. **Customer Service and Support**:\\n   - **Emotionally Intelligent Chatbots**: Create chatbots that can detect and respond to customers\\' emotions, improving customer satisfaction by providing empathetic and appropriate responses.\\n   - **Sentiment Analysis in Customer Feedback**: Analyze customer feedback to understand emotional tones and improve products or services accordingly.\\n\\n3. **Educational Tools**:\\n   - **Emotionally Aware Tutoring Systems**: Develop tutoring systems that adapt their teaching strategies based on the emotional state of the learner, enhancing the learning experience.\\n   - **Interactive Learning Environments**: Create interactive educational platforms that respond to students\\' emotions, offering encouragement and support when needed.\\n\\n4. **Human-Computer Interaction (HCI)**:\\n   - **Emotionally Adaptive Interfaces**: Design user interfaces that adapt to the user\\'s emotional state, providing a more personalized and engaging experience.\\n   - **Affective Computing Applications**: Develop applications that use affective computing to enhance user interaction by understanding and responding to emotional cues.\\n\\n5. **Entertainment and Media**:\\n   - **Emotion-Driven Content Recommendation**: Build recommendation systems that suggest content (movies, music, books) based on the user\\'s current emotional state.\\n   - **Interactive Storytelling and Gaming**: Create interactive stories and games that adapt to the player\\'s emotions, offering a more immersive experience.\\n\\n6. **Social Robotics**:\\n   - **Emotionally Intelligent Robots**: Develop robots that can interact with humans in a more natural and empathetic manner by understanding and responding to emotional cues.\\n   - **Companion Robots for Elderly**: Create companion robots for the elderly that can understand and respond to their emotional needs, providing companionship and support.\\n\\n7. **Human Resources and Workplace Well-being**:\\n   - **Employee Well-being Monitoring**: Implement systems to monitor employees\\' emotional well-being, providing support and interventions when necessary.\\n   - **Emotionally Intelligent Recruitment Tools**: Develop tools that assess candidates\\' emotional intelligence during the recruitment process.\\n\\n8. **Healthcare**:\\n   - **Patient Emotion Recognition**: Integrate emotion recognition into healthcare applications to better understand and respond to patients\\' needs.\\n   - **Telemedicine Platforms**: Enhance telemedicine platforms with emotionally aware virtual assistants that can provide empathetic support to patients.\\n\\nBy leveraging GPT-4\\'s capabilities in affective cognition, these applications can significantly enhance user experience, provide better support, and create more engaging and empathetic interactions across various domains.', 'name': 'Product_manager', 'role': 'user'}, {'content': 'TERMINATE', 'name': 'Coder', 'role': 'user'}], summary='', cost={'usage_including_cached_inference': {'total_cost': 0}, 'usage_excluding_cached_inference': {'total_cost': 0}}, human_input=[])"
      ]
     },
     "execution_count": 18,
     "metadata": {},
     "output_type": "execute_result"
    }
   ],
   "source": [
    "user_proxy.initiate_chat(\n",
    "    manager, message=\"Find a latest paper about gpt-4 on arxiv and find its potential applications in software.\"\n",
    ")"
   ]
  },
  {
   "cell_type": "markdown",
   "metadata": {},
   "source": [
    "ref: https://microsoft.github.io/autogen/docs/notebooks/agentchat_groupchat/"
   ]
  },
  {
   "cell_type": "markdown",
   "metadata": {},
   "source": []
  }
 ],
 "metadata": {
  "kernelspec": {
   "display_name": "Python 3",
   "language": "python",
   "name": "python3"
  },
  "language_info": {
   "codemirror_mode": {
    "name": "ipython",
    "version": 3
   },
   "file_extension": ".py",
   "mimetype": "text/x-python",
   "name": "python",
   "nbconvert_exporter": "python",
   "pygments_lexer": "ipython3",
   "version": "3.8.18"
  },
  "orig_nbformat": 4
 },
 "nbformat": 4,
 "nbformat_minor": 2
}
