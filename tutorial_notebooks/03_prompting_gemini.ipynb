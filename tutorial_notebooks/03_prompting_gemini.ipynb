{
 "cells": [
  {
   "cell_type": "markdown",
   "id": "806f4d92",
   "metadata": {},
   "source": [
    "## **Prompting with Gemini**"
   ]
  },
  {
   "cell_type": "code",
   "execution_count": null,
   "id": "e877876a",
   "metadata": {},
   "outputs": [],
   "source": [
    "from google.oauth2 import service_account\n",
    "from google.cloud import aiplatform\n",
    "from vertexai.generative_models import GenerativeModel, Part, Image\n",
    "\n",
    "project_name = \"\" # ใส่ชื่อ project ที่นี้\n",
    "credentials = service_account.Credentials.from_service_account_file(\"\") # ใส่ path ไปยัง JSON file ที่นี่\n",
    "aiplatform.init(project=project_name, credentials=credentials)"
   ]
  },
  {
   "cell_type": "code",
   "execution_count": null,
   "id": "0b2e0d9f",
   "metadata": {},
   "outputs": [],
   "source": [
    "def get_response(prompt, model_name=\"gemini-1.5-flash\"):\n",
    "    \"\"\"\n",
    "    ฟังก์ชันสำหรับรับคำตอบจากโมเดล AI\n",
    "    \n",
    "    Args:\n",
    "    prompt (str): คำถามหรือข้อความที่ต้องการให้ AI ตอบ\n",
    "    model_name (str): ชื่อของโมเดลที่ต้องการใช้ (ค่าเริ่มต้นคือ \"gemini-pro\")\n",
    "    \n",
    "    Returns:\n",
    "    str: ข้อความตอบกลับจาก AI\n",
    "    \"\"\"\n",
    "    model = GenerativeModel(model_name)\n",
    "    response = model.generate_content(prompt)\n",
    "    return response.text"
   ]
  },
  {
   "cell_type": "code",
   "execution_count": null,
   "id": "70639d33",
   "metadata": {},
   "outputs": [],
   "source": [
    "print(get_response(\"Why is sky blue?\"))"
   ]
  },
  {
   "cell_type": "markdown",
   "id": "038f8c8b",
   "metadata": {},
   "source": [
    "## **Prompting Example**"
   ]
  },
  {
   "cell_type": "code",
   "execution_count": null,
   "id": "52eec981",
   "metadata": {},
   "outputs": [],
   "source": [
    "# TODOs"
   ]
  },
  {
   "cell_type": "markdown",
   "id": "e4a51e01",
   "metadata": {},
   "source": [
    "## **Multimodal with Gemini**\n",
    "\n",
    "\n",
    "อ่านเพิ่มเติม:\n",
    "- https://cloud.google.com/vertex-ai/generative-ai/docs/samples/generativeaionvertexai-gemini-all-modalities#generativeaionvertexai_gemini_all_modalities-python\n",
    "- https://cloud.google.com/vertex-ai/generative-ai/docs/reference/python/latest/vertexai.vision_models.Image"
   ]
  },
  {
   "cell_type": "code",
   "execution_count": null,
   "id": "d0280412",
   "metadata": {},
   "outputs": [],
   "source": [
    "def get_response_with_image(prompt, image_path, model_name=\"gemini-pro-vision\"):\n",
    "    \"\"\"\n",
    "    ฟังก์ชันสำหรับรับคำตอบจากโมเดล AI โดยใช้รูปภาพประกอบ\n",
    "    \n",
    "    Args:\n",
    "    prompt (str): คำถามหรือข้อความที่ต้องการให้ AI ตอบ\n",
    "    image_path (str): พาธของไฟล์รูปภาพ\n",
    "    model_name (str): ชื่อของโมเดลที่ต้องการใช้ (ค่าเริ่มต้นคือ \"gemini-pro-vision\")\n",
    "    \n",
    "    Returns:\n",
    "    str: ข้อความตอบกลับจาก AI\n",
    "    \"\"\"\n",
    "\n",
    "    model = GenerativeModel(model_name)\n",
    "    image = Image.load_from_file(image_path)\n",
    "\n",
    "    # สร้างคำตอบจากโมเดล\n",
    "    response = model.generate_content([image, prompt])\n",
    "    \n",
    "    return response.text"
   ]
  },
  {
   "cell_type": "code",
   "execution_count": null,
   "id": "03fef39a",
   "metadata": {},
   "outputs": [],
   "source": [
    "prompt = \"\"\"\n",
    "Perform optical character information and export in the following JSON format.\n",
    "\n",
    "{\n",
    "  tax_id: str,\n",
    "  pos_id: str,\n",
    "  tel_number: str,\n",
    "  date: str,\n",
    "  recepit_number: str,\n",
    "  items: list[name, float],\n",
    "  price_before_vat: float,\n",
    "  total_price: float,\n",
    "  vat_7_percent: float,\n",
    "  earn_point: float\n",
    "}\n",
    "\"\"\"\n",
    "\n",
    "answer = get_response_with_image(prompt, \"../assets/seki_example.jpg\")\n",
    "print(answer)"
   ]
  },
  {
   "cell_type": "code",
   "execution_count": null,
   "id": "d21ac41f",
   "metadata": {},
   "outputs": [],
   "source": []
  }
 ],
 "metadata": {
  "kernelspec": {
   "display_name": "Python 3",
   "language": "python",
   "name": "python3"
  },
  "language_info": {
   "codemirror_mode": {
    "name": "ipython",
    "version": 3
   },
   "file_extension": ".py",
   "mimetype": "text/x-python",
   "name": "python",
   "nbconvert_exporter": "python",
   "pygments_lexer": "ipython3",
   "version": "3.8.8"
  }
 },
 "nbformat": 4,
 "nbformat_minor": 5
}
