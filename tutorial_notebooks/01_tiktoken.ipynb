{
 "cells": [
  {
   "cell_type": "markdown",
   "id": "7da595d6",
   "metadata": {},
   "source": [
    "## **Tiktoken**\n",
    "\n",
    "\n",
    "`tiktoken` เป็นไลบรารีโทเค็นไนเซอร์ (tokenizer) สำหรับใช้กับโมเดลภาษาขนาดใหญ่ เช่น GPT-3 และ GPT-4 ไลบรารีนี้ช่วยในการแบ่งข้อความเป็นโทเค็น (tokens) ซึ่งเป็นหน่วยพื้นฐานที่โมเดลภาษาใช้ในการประมวลผล\n",
    "\n",
    "tiktoken สามารถใช้งานได้หลากหลาย เช่น:\n",
    "- นับจำนวนโทเค็นในข้อความ\n",
    "- แปลงข้อความเป็นรหัสโทเค็น (token IDs)\n",
    "- คำนวณค่าใช้จ่ายในการใช้งาน API ของ OpenAI"
   ]
  },
  {
   "cell_type": "code",
   "execution_count": null,
   "id": "8722bb61",
   "metadata": {},
   "outputs": [],
   "source": [
    "import tiktoken"
   ]
  },
  {
   "cell_type": "code",
   "execution_count": null,
   "id": "9df1d187",
   "metadata": {},
   "outputs": [],
   "source": [
    "enc = tiktoken.encoding_for_model(\"gpt-4o\")"
   ]
  },
  {
   "cell_type": "code",
   "execution_count": null,
   "id": "99235f37",
   "metadata": {},
   "outputs": [],
   "source": [
    "enc.encode(\"hello world\")"
   ]
  },
  {
   "cell_type": "code",
   "execution_count": null,
   "id": "f72b3140",
   "metadata": {},
   "outputs": [],
   "source": [
    "enc.encode(\"สวัสดีครับ\")"
   ]
  },
  {
   "cell_type": "code",
   "execution_count": null,
   "id": "442c8df7",
   "metadata": {},
   "outputs": [],
   "source": [
    "enc.encode(\"ยินดีต้อนรับสู่บ้านของเรา\")"
   ]
  },
  {
   "cell_type": "code",
   "execution_count": null,
   "id": "9403c65b",
   "metadata": {},
   "outputs": [],
   "source": [
    "enc_gpt35 = tiktoken.encoding_for_model(\"gpt-3.5-turbo\")"
   ]
  },
  {
   "cell_type": "code",
   "execution_count": null,
   "id": "3d074feb",
   "metadata": {},
   "outputs": [],
   "source": [
    "enc_gpt35.encode(\"hello world\")"
   ]
  },
  {
   "cell_type": "code",
   "execution_count": null,
   "id": "c49ef953",
   "metadata": {},
   "outputs": [],
   "source": [
    "enc_gpt35.encode(\"สวัสดีครับ\")"
   ]
  },
  {
   "cell_type": "code",
   "execution_count": null,
   "id": "bd52e1d8",
   "metadata": {},
   "outputs": [],
   "source": [
    "print(enc_gpt35.encode(\"ยินดีต้อนรับสู่บ้านของเรา\"))"
   ]
  },
  {
   "cell_type": "code",
   "execution_count": null,
   "id": "0090db3c",
   "metadata": {},
   "outputs": [],
   "source": [
    "def calculate_tokens_from_string(string: str, encoding_name: str) -> int:\n",
    "    \"\"\"Returns the number of tokens in a text string.\"\"\"\n",
    "    encoding = tiktoken.encoding_for_model(encoding_name)\n",
    "    num_tokens = len(encoding.encode(string))\n",
    "    return num_tokens"
   ]
  },
  {
   "cell_type": "code",
   "execution_count": null,
   "id": "1070e147",
   "metadata": {},
   "outputs": [],
   "source": [
    "model_names = [\"gpt-3.5-turbo\", \"gpt-4o\"]\n",
    "texts = [\n",
    "    \"สวัสดีครับ\",\n",
    "    \"ยินดีต้อนรับสู่บ้านของเรา\",\n",
    "    \"จงเขียนโคลงสี่สุภาพที่เกี่ยวกับโรงเรียนสวนกุหลาบ\",\n",
    "]\n",
    "for model_name in model_names:\n",
    "  print(f\"Model name: {model_name}\")\n",
    "  for text in texts:\n",
    "    print(calculate_tokens_from_string(text, model_name))\n"
   ]
  }
 ],
 "metadata": {
  "kernelspec": {
   "display_name": "Python 3",
   "language": "python",
   "name": "python3"
  },
  "language_info": {
   "codemirror_mode": {
    "name": "ipython",
    "version": 3
   },
   "file_extension": ".py",
   "mimetype": "text/x-python",
   "name": "python",
   "nbconvert_exporter": "python",
   "pygments_lexer": "ipython3",
   "version": "3.10.13"
  }
 },
 "nbformat": 4,
 "nbformat_minor": 5
}
