{
 "cells": [
  {
   "cell_type": "markdown",
   "metadata": {},
   "source": [
    "# Introduction to prompt engineering"
   ]
  },
  {
   "cell_type": "markdown",
   "metadata": {},
   "source": [
    "*Prompt* เป็นการป้อนคำสั่งให้กับ large language model (LLM) เช่น GPT, Gemini, หรือ Llama เพื่อให้ได้มาซึ่งผลลัพธ์ที่ต้องการ ซึ่งต่อมาได้มีการพัฒนาเทคนิคต่างๆ ในการเขียน prompt ที่ทำให้ผลลัพธ์ที่ได้มีคุณภาพมากขึ้น ซึ่งเราเรียกเทคนิคเหล่านั้นว่า *prompt engineering*\n",
    "\n",
    "ใน Notebook นี้เราจะยกตัวอย่างการเขียน prompt และ เปรียบเทียบผลลัพธ์ที่ได้จาก Prompt และ โมเดลที่แตกต่างกัน\n",
    "โดยใช้ *LlamaIndex* ซึ่งเป็น เป็นเฟรมเวิร์กข้อมูลที่เรียบง่ายและยืดหยุ่นสำหรับเชื่อมต่อแหล่งข้อมูลที่กำหนดเองกับ LLM ที่เราต้องการ "
   ]
  },
  {
   "cell_type": "markdown",
   "metadata": {},
   "source": [
    "### Prompting"
   ]
  },
  {
   "cell_type": "markdown",
   "metadata": {},
   "source": [
    "**ติดตั้ง Library ที่จำเป็น**"
   ]
  },
  {
   "cell_type": "code",
   "execution_count": 3,
   "metadata": {},
   "outputs": [],
   "source": [
    "%%capture\n",
    "!pip install llama-index python-dotenv "
   ]
  },
  {
   "cell_type": "markdown",
   "metadata": {},
   "source": [
    "**เริ่มต้นการใช้งาน LlamaIndex**"
   ]
  },
  {
   "cell_type": "code",
   "execution_count": 6,
   "metadata": {},
   "outputs": [
    {
     "data": {
      "text/plain": [
       "True"
      ]
     },
     "execution_count": 6,
     "metadata": {},
     "output_type": "execute_result"
    }
   ],
   "source": [
    "#Import Libraries ที่จำเป็น\n",
    "import os\n",
    "import llama_index\n",
    "from llama_index.llms.openai import OpenAI\n",
    "\n",
    "# นำเข้าไฟล์ .env \n",
    "from dotenv import load_dotenv\n",
    "load_dotenv()"
   ]
  },
  {
   "cell_type": "markdown",
   "metadata": {},
   "source": [
    "**ใช้งาน GPT-4o ด้วย LlamaIndex**"
   ]
  },
  {
   "cell_type": "code",
   "execution_count": 14,
   "metadata": {},
   "outputs": [],
   "source": [
    "openai_model = OpenAI(model=\"gpt-4o\")\n",
    "openai_resp = openai_model.complete(\"What is the meaning of life?\")"
   ]
  },
  {
   "cell_type": "code",
   "execution_count": 15,
   "metadata": {},
   "outputs": [
    {
     "name": "stdout",
     "output_type": "stream",
     "text": [
      "The meaning of life is a profound and complex question that has been explored by philosophers, theologians, scientists, and thinkers throughout history. Different perspectives offer various answers:\n",
      "\n",
      "1. **Philosophical Perspectives**:\n",
      "   - **Existentialism**: Suggests that life has no inherent meaning, and it is up to each individual to create their own purpose through choices and actions.\n",
      "   - **Absurdism**: Proposes that while humans seek meaning, the universe is indifferent, leading to a conflict that can be embraced or confronted.\n",
      "   - **Nihilism**: Argues that life is without objective meaning, purpose, or intrinsic value.\n",
      "\n",
      "2. **Religious and Spiritual Perspectives**:\n",
      "   - **Christianity**: Often views the meaning of life as knowing, loving, and serving God, and preparing for an eternal life with Him.\n",
      "   - **Buddhism**: Focuses on achieving enlightenment and escaping the cycle of suffering and rebirth through the Eightfold Path.\n",
      "   - **Hinduism**: Emphasizes fulfilling one's dharma (duty) and seeking moksha (liberation from the cycle of rebirth).\n",
      "\n",
      "3. **Scientific Perspectives**:\n",
      "   - **Biological**: From an evolutionary standpoint, the purpose of life can be seen as survival and reproduction.\n",
      "   - **Cosmological**: Some scientists ponder the role of consciousness and life in the universe, though definitive answers remain elusive.\n",
      "\n",
      "4. **Personal and Subjective Perspectives**:\n",
      "   - Many people find meaning through personal experiences, relationships, achievements, and contributions to society.\n",
      "\n",
      "Ultimately, the meaning of life is a deeply personal question, and the answer may vary greatly depending on one's beliefs, experiences, and worldview.\n"
     ]
    }
   ],
   "source": [
    "print(openai_resp)"
   ]
  },
  {
   "cell_type": "markdown",
   "metadata": {},
   "source": [
    "**ใช้งาน Gemini ด้วย LlamaIndex**"
   ]
  },
  {
   "cell_type": "code",
   "execution_count": null,
   "metadata": {},
   "outputs": [],
   "source": [
    "# work in progress"
   ]
  },
  {
   "cell_type": "markdown",
   "metadata": {},
   "source": [
    "### Prompt Engineering"
   ]
  },
  {
   "cell_type": "markdown",
   "metadata": {},
   "source": [
    "Prompt ที่ดีควรจะมีส่วนประกอบดังนี้\n",
    "- Instruction : งานหรือคำสั่งที่ต้องการให้โมเดลทำ\n",
    "- Context : ข้อมูลภายนอกหรือบริบทเพิ่มเติมที่ช่วยให้โมเดลตอบได้ดีขึ้น\n",
    "- Input ข้อมูลหรือคำถามที่เราสนใจหาคำตอบ\n",
    "- Output Indicator : ประเภทหรือรูปแบบของผลลัพธ์ที่ต้องการ เช่น Tone, Length, Style\n",
    "\n",
    "ref: https://www.promptingguide.ai/introduction/elements"
   ]
  },
  {
   "cell_type": "markdown",
   "metadata": {},
   "source": [
    "**Basic Prompt Engineering**"
   ]
  },
  {
   "cell_type": "code",
   "execution_count": 24,
   "metadata": {},
   "outputs": [
    {
     "name": "stdout",
     "output_type": "stream",
     "text": [
      "Absolutely! Here are five stunning campaign ideas to help you launch your new product:\n",
      "\n",
      "### 1. **Virtual Reality (VR) Experience Campaign**\n",
      "- **Concept**: Create an immersive VR experience that allows potential customers to interact with your product in a virtual environment. This could be a virtual tour, a simulation of the product in use, or an interactive game.\n",
      "- **Execution**: Partner with VR cafes, tech stores, or create a downloadable app for VR headsets. Promote the experience through social media, influencers, and tech blogs.\n",
      "- **Benefit**: Provides a memorable and engaging way for customers to experience your product, creating a strong emotional connection.\n",
      "\n",
      "### 2. **Influencer Collaboration and Unboxing Series**\n",
      "- **Concept**: Collaborate with popular influencers in your industry to create a series of unboxing videos and reviews. Choose influencers who align with your brand values and have a loyal following.\n",
      "- **Execution**: Send your product to influencers with a personalized note and some exclusive content or features. Encourage them to share their first impressions and experiences on their social media platforms.\n",
      "- **Benefit**: Leverages the trust and reach of influencers to build credibility and excitement around your product.\n",
      "\n",
      "### 3. **Pop-Up Experience and Live Demonstrations**\n",
      "- **Concept**: Organize pop-up events in key locations where potential customers can see, touch, and try your product. Include live demonstrations, workshops, and Q&A sessions with product experts.\n",
      "- **Execution**: Choose high-traffic areas like shopping malls, city centers, or popular events. Use eye-catching displays and interactive elements to draw people in. Promote the events through local media, social media, and email marketing.\n",
      "- **Benefit**: Creates a buzz and allows customers to experience the product firsthand, increasing the likelihood of purchase.\n",
      "\n",
      "### 4. **User-Generated Content (UGC) Contest**\n",
      "- **Concept**: Launch a contest encouraging customers to create and share content featuring your product. This could be photos, videos, stories, or creative uses of the product.\n",
      "- **Execution**: Announce the contest on your website and social media channels. Offer attractive prizes for the best entries and feature the winning content on your platforms. Use a unique hashtag to track entries and build a community around the campaign.\n",
      "- **Benefit**: Generates authentic content and social proof, while also engaging your audience and expanding your reach.\n",
      "\n",
      "### 5. **Interactive Social Media Campaign with AR Filters**\n",
      "- **Concept**: Develop augmented reality (AR) filters for platforms like Instagram and Snapchat that allow users to interact with your product in a fun and creative way.\n",
      "- **Execution**: Create filters that highlight key features of your product or allow users to visualize themselves using it. Promote the filters through your social media channels and encourage users to share their experiences using a branded hashtag.\n",
      "- **Benefit**: Engages users in a playful and innovative manner, increasing brand visibility and encouraging social sharing.\n",
      "\n",
      "These campaign ideas can help create excitement, engagement, and a strong connection with your target audience, ultimately driving the success of your product launch.\n"
     ]
    }
   ],
   "source": [
    "openai_resp = openai_model.complete(\"Could you list down 5 stunning campaings ideas for my new product launch?\")\n",
    "print(openai_resp)"
   ]
  },
  {
   "cell_type": "code",
   "execution_count": 30,
   "metadata": {},
   "outputs": [
    {
     "name": "stdout",
     "output_type": "stream",
     "text": [
      "Certainly! Here are five stunning campaign ideas for your new healthy snack bar launch targeting Thai Gen Z:\n",
      "\n",
      "# แซ่บเว่อร์! (Zab Ver!)\n",
      "## Campaign Name: \"แซ่บเว่อร์! (Zab Ver!)\"\n",
      "- **Campaign Objective**: To create buzz and excitement around the new healthy snack bar by leveraging the trendy Thai slang \"แซ่บเว่อร์!\" which means \"super delicious!\"\n",
      "- **Campaign Target Audience**: Thai Gen Z, aged 18-24, who are active on social media and interested in health and wellness.\n",
      "- **Indicators of Success**: Number of social media mentions, hashtag usage, engagement rates (likes, shares, comments), and initial sales figures.\n",
      "\n",
      "# สุขภาพดี๊ดี (Sukkapap Dee Dee)\n",
      "## Campaign Name: \"สุขภาพดี๊ดี (Sukkapap Dee Dee)\"\n",
      "- **Campaign Objective**: To highlight the health benefits of the snack bar and position it as a must-have for a healthy lifestyle.\n",
      "- **Campaign Target Audience**: Health-conscious Thai Gen Z individuals who are looking for nutritious snack options.\n",
      "- **Indicators of Success**: Increase in website traffic, number of product trials, positive reviews and testimonials, and growth in social media followers.\n",
      "\n",
      "# ชีวิตดี๊ดี (Cheewit Dee Dee)\n",
      "## Campaign Name: \"ชีวิตดี๊ดี (Cheewit Dee Dee)\"\n",
      "- **Campaign Objective**: To associate the snack bar with a positive and vibrant lifestyle, encouraging Gen Z to incorporate it into their daily routine.\n",
      "- **Campaign Target Audience**: Thai Gen Z who are lifestyle enthusiasts and enjoy trying new products that enhance their daily lives.\n",
      "- **Indicators of Success**: User-generated content, influencer partnerships, engagement rates on lifestyle blogs and social media, and repeat purchase rates.\n",
      "\n",
      "# ฟินเว่อร์! (Fin Ver!)\n",
      "## Campaign Name: \"ฟินเว่อร์! (Fin Ver!)\"\n",
      "- **Campaign Objective**: To create a sense of indulgence and satisfaction with the healthy snack bar, using the trendy term \"ฟินเว่อร์!\" which means \"super satisfying!\"\n",
      "- **Campaign Target Audience**: Thai Gen Z who are foodies and enjoy discovering new and exciting snack options.\n",
      "- **Indicators of Success**: Social media engagement, number of product samples distributed, influencer collaborations, and customer feedback.\n",
      "\n",
      "# แชร์สุขภาพ (Share Sukkapap)\n",
      "## Campaign Name: \"แชร์สุขภาพ (Share Sukkapap)\"\n",
      "- **Campaign Objective**: To encourage social sharing and community building around the healthy snack bar, promoting it as a product that brings people together.\n",
      "- **Campaign Target Audience**: Thai Gen Z who are active on social media and enjoy sharing their experiences with friends and followers.\n",
      "- **Indicators of Success**: Number of social media shares, hashtag usage, participation in online challenges or contests, and growth in brand community.\n",
      "\n",
      "These campaign ideas are designed to resonate with Thai Gen Z by incorporating trendy language and focusing on themes that are important to them, such as health, lifestyle, and social sharing.\n"
     ]
    }
   ],
   "source": [
    "campaign_prompt = \"\"\"\n",
    "In next year, we are going to launch a new food product which is a healthy snack bar.\n",
    "Could you list down 5 stunning campaings ideas for my new product launch?\n",
    "The campaign ideas should be in the following format:\n",
    "# Campaign Name 1 \n",
    "## Campaign Name\n",
    "- Campaign Objective\n",
    "- Campaign Target Audience\n",
    "- Indicators of Success\n",
    "\n",
    "# Campaign Name 2\n",
    "and so on...\n",
    "\n",
    "The audience for the campaign are Thai Gen Z so the campaign headline should contain some trendy words and in Thai language.\n",
    "\"\"\"\n",
    "campaign_lists = openai_model.complete(campaign_prompt)\n",
    "print(campaign_lists)"
   ]
  },
  {
   "cell_type": "markdown",
   "metadata": {},
   "source": [
    "#### Few-shot Prompting"
   ]
  },
  {
   "cell_type": "markdown",
   "metadata": {},
   "source": [
    "เป็นการยกตัวอย่างเพียงเล็กน้อยเพื่อให้โมเดลสามารถตอบคำถามได้ตรงตามความต้องการ\\\n",
    "ref: https://www.promptingguide.ai/techniques/fewshot"
   ]
  },
  {
   "cell_type": "code",
   "execution_count": 52,
   "metadata": {},
   "outputs": [
    {
     "name": "stdout",
     "output_type": "stream",
     "text": [
      "Sure! Here are five catchy and trendy Thai catchphrases for 7-Eleven:\n",
      "\n",
      "1. สะดวกทุกที่ ทุกเวลา\n",
      "   (Saduak thuk thi thuk wela)\n",
      "   - Convenient everywhere, anytime\n",
      "\n",
      "2. ช้อปง่าย จ่ายสบาย\n",
      "   (Chop ngai chai sabai)\n",
      "   - Easy shopping, comfortable paying\n",
      "\n",
      "3. อิ่มอร่อย 24 ชั่วโมง\n",
      "   (Im aroi 24 chua mong)\n",
      "   - Delicious 24 hours\n",
      "\n",
      "4. ใกล้บ้าน ใกล้ใจ\n",
      "   (Klai ban klai jai)\n",
      "   - Close to home, close to heart\n",
      "\n",
      "5. เติมเต็มทุกความต้องการ\n",
      "   (Toem tem thuk khwam tong kan)\n",
      "   - Fulfilling all your needs\n",
      "\n",
      "These phrases are designed to resonate with the convenience and accessibility that 7-Eleven offers in Thailand.\n"
     ]
    }
   ],
   "source": [
    "baseline = \"\"\"\n",
    "Could you list down 5 catchphrases of Thai convenience store 7-Eleven\n",
    "The catchphrases should be catchy and trendy and must be in Thai language.\n",
    "\"\"\"\n",
    "baseline_resp = openai_model.complete(baseline)\n",
    "print(baseline_resp)"
   ]
  },
  {
   "cell_type": "code",
   "execution_count": 53,
   "metadata": {},
   "outputs": [
    {
     "name": "stdout",
     "output_type": "stream",
     "text": [
      "Sure, here are five catchy and trendy catchphrases for Thai 7-Eleven convenience stores:\n",
      "\n",
      "1. 7-Eleven: สะดวกทุกที่ ทุกเวลา\n",
      "2. 7-Eleven: ชีวิตง่ายขึ้นทุกวัน\n",
      "3. 7-Eleven: เติมเต็มทุกความต้องการ\n",
      "4. 7-Eleven: ใกล้บ้าน ใกล้ใจ\n",
      "5. 7-Eleven: ช้อปง่าย จ่ายสะดวก\n",
      "\n",
      "These phrases aim to highlight the convenience, accessibility, and comprehensive service that 7-Eleven offers to its customers.\n"
     ]
    }
   ],
   "source": [
    "few_shot_prompt = \"\"\"\n",
    "Could you list down 5 catchphrases of Thai convenience store 7-Eleven\n",
    "The catchphrases should be catchy and trendy and must be in Thai language.\n",
    "here are some examples:\n",
    "- ไข่สด CP : ไข่สดซีพี เติมสิ่งดีๆ ให้กับชีวิต\n",
    "- CP : สด สะอาด ปลอดภัย มั่นใจทุกวัน\n",
    "- CP Fresh Mart : ทุกมื้อดีๆ ที่ซีพีเฟรชมาร์ท\n",
    "\"\"\"\n",
    "few_shot_resp = openai_model.complete(few_shot_prompt)\n",
    "print(few_shot_resp)"
   ]
  },
  {
   "cell_type": "markdown",
   "metadata": {},
   "source": [
    "#### Chain-of-Thought (CoT) Prompting"
   ]
  },
  {
   "cell_type": "markdown",
   "metadata": {},
   "source": [
    "เป็นการบอกให้โมเดลใช้เหตุผลในการวิเคราะห์คำถาม หรือ คำสั่งก่อนที่จะตอบคำถาม CoT เป็นเทคนิคที่นิยมในการทำให้โมเดลสามารถแก้ปัญหาที่ซับซ้อนได้ดีขึ้น โดยแยกได้ 2 ประเภท คือ\n",
    "- *Chain-of-Thought (CoT) Prompting* ที่จะเป็นการใส่ลำดับความคิดเข้าไปใน prompt\n",
    "- *Zero-shot Chain-of-Thought (CoT) Prompting* เป็นการสั่งให้โมเดลคิดอย่างเป็นลำดับเพื่อให้ได้ผลลัพธ์ที่ต้องการ"
   ]
  },
  {
   "cell_type": "code",
   "execution_count": 59,
   "metadata": {},
   "outputs": [
    {
     "name": "stdout",
     "output_type": "stream",
     "text": [
      "The word \"strawberry\" contains 2 instances of the letter \"r\".\n"
     ]
    }
   ],
   "source": [
    "the_hardest_problem_for_llm = \"Q:How many r in the word `strawberry`?\"\n",
    "baseline_resp = openai_model.complete(the_hardest_problem_for_llm)\n",
    "print(baseline_resp)"
   ]
  },
  {
   "cell_type": "code",
   "execution_count": 56,
   "metadata": {},
   "outputs": [
    {
     "name": "stdout",
     "output_type": "stream",
     "text": [
      "The word \"strawberry\" contains 10 letters. To count the number of 'r's, we can look at each character:\n",
      "\n",
      "s, t, r, a, w, b, e, r, r, y\n",
      "\n",
      "There are three 'r's in the word \"strawberry\".\n"
     ]
    }
   ],
   "source": [
    "cot = \"\"\"\n",
    "Q:How many r in the word `strawberry`?\n",
    "A:To count the number of r in the word `strawberry`, we need to split the word into individual characters and count the number of r.\n",
    "strawberry -> s, t, r, a, w, b, e, r, r, y\n",
    "A:\n",
    "\"\"\"\n",
    "cot_resp = openai_model.complete(cot)\n",
    "print(cot_resp)"
   ]
  },
  {
   "cell_type": "code",
   "execution_count": 60,
   "metadata": {},
   "outputs": [
    {
     "name": "stdout",
     "output_type": "stream",
     "text": [
      "Sure, let's break it down step by step.\n",
      "\n",
      "1. Write down the word: `strawberry`.\n",
      "2. Identify and count the occurrences of the letter `r`.\n",
      "\n",
      "Let's go through the word:\n",
      "\n",
      "- s\n",
      "- t\n",
      "- r (1st occurrence)\n",
      "- a\n",
      "- w\n",
      "- b\n",
      "- e\n",
      "- r (2nd occurrence)\n",
      "- r (3rd occurrence)\n",
      "- y\n",
      "\n",
      "So, there are 3 occurrences of the letter `r` in the word `strawberry`.\n"
     ]
    }
   ],
   "source": [
    "cot_zero_shot = \"\"\"\n",
    "Q:How many r in the word `strawberry`?\n",
    "A: Let's think step by step.\n",
    "\"\"\"\n",
    "cot_zero_shot_resp = openai_model.complete(cot_zero_shot)\n",
    "print(cot_zero_shot_resp)"
   ]
  },
  {
   "cell_type": "markdown",
   "metadata": {},
   "source": [
    "**LLM อื่นๆที่น่าสนใจ**\n",
    "SeaLLM (Alibaba DAMO) https://huggingface.co/spaces/SeaLLMs/SeaLLM-Chat-13b\\\n",
    "Vertex AI (Google) https://cloud.google.com/vertex-ai?hl=en\\\n",
    "Typhoon (SCBX) https://opentyphoon.ai/"
   ]
  },
  {
   "cell_type": "code",
   "execution_count": null,
   "metadata": {},
   "outputs": [],
   "source": []
  }
 ],
 "metadata": {
  "kernelspec": {
   "display_name": "Python 3",
   "language": "python",
   "name": "python3"
  },
  "language_info": {
   "codemirror_mode": {
    "name": "ipython",
    "version": 3
   },
   "file_extension": ".py",
   "mimetype": "text/x-python",
   "name": "python",
   "nbconvert_exporter": "python",
   "pygments_lexer": "ipython3",
   "version": "3.8.18"
  },
  "orig_nbformat": 4
 },
 "nbformat": 4,
 "nbformat_minor": 2
}
